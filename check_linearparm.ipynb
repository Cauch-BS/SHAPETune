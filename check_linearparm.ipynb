{
 "cells": [
  {
   "cell_type": "code",
   "execution_count": 5,
   "metadata": {},
   "outputs": [],
   "source": [
    "import torch\n",
    "import pandas as pd\n",
    "import numpy as np\n",
    "import linearpartition as lp"
   ]
  },
  {
   "cell_type": "code",
   "execution_count": 6,
   "metadata": {},
   "outputs": [
    {
     "name": "stdout",
     "output_type": "stream",
     "text": [
      "-7.2164677320742365\n",
      "    i   j      prob\n",
      "19  3  18  0.999201\n",
      "18  2  19  0.998800\n",
      "17  1  20  0.997715\n",
      "21  5  16  0.996693\n",
      "22  4  17  0.996508\n"
     ]
    }
   ],
   "source": [
    "# Check Normal Functioning\n",
    "seq = 'UGUCGGGGUUGGCUGUCUGACA'\n",
    "bpmtx, fe = lp.partition(seq)\n",
    "print(fe)\n",
    "print(\n",
    "    pd.DataFrame(bpmtx).sort_values('prob', ascending=False).head()\n",
    ")"
   ]
  },
  {
   "cell_type": "code",
   "execution_count": 7,
   "metadata": {},
   "outputs": [
    {
     "name": "stdout",
     "output_type": "stream",
     "text": [
      "Mod as m1psi\n",
      "-7.93253638315384\n",
      "    i   j      prob\n",
      "18  3  18  0.999639\n",
      "17  2  19  0.999531\n",
      "16  1  20  0.998745\n",
      "21  4  17  0.996808\n",
      "20  5  16  0.996642\n",
      "Mod as psi\n",
      "-7.90462587025171\n",
      "    i   j      prob\n",
      "18  3  18  0.999597\n",
      "17  2  19  0.999493\n",
      "16  1  20  0.998895\n",
      "21  4  17  0.996785\n",
      "20  5  16  0.996619\n",
      "Mod as none\n",
      "-7.2164677320742365\n",
      "    i   j      prob\n",
      "19  3  18  0.999201\n",
      "18  2  19  0.998800\n",
      "17  1  20  0.997715\n",
      "21  5  16  0.996693\n",
      "22  4  17  0.996508\n",
      "Mod as psi\n",
      "-7.90462587025171\n",
      "    i   j      prob\n",
      "18  3  18  0.999597\n",
      "17  2  19  0.999493\n",
      "16  1  20  0.998895\n",
      "21  4  17  0.996785\n",
      "20  5  16  0.996619\n",
      "Mod as m1psi\n",
      "-7.93253638315384\n",
      "    i   j      prob\n",
      "18  3  18  0.999639\n",
      "17  2  19  0.999531\n",
      "16  1  20  0.998745\n",
      "21  4  17  0.996808\n",
      "20  5  16  0.996642\n",
      "Mod as none\n",
      "-7.2164677320742365\n",
      "    i   j      prob\n",
      "19  3  18  0.999201\n",
      "18  2  19  0.998800\n",
      "17  1  20  0.997715\n",
      "21  5  16  0.996693\n",
      "22  4  17  0.996508\n"
     ]
    }
   ],
   "source": [
    "# Check Psi & M1Psi Functioning & Normal Stack Calculations\n",
    "mods = ['m1psi', 'psi', 'none', 'psi', 'm1psi', 'none']\n",
    "for mod in mods:\n",
    "    print(f\"Mod as {mod}\")\n",
    "    bpmtx, fe = lp.partition(seq, mod = mod)\n",
    "    print(fe)\n",
    "    print(\n",
    "        pd.DataFrame(bpmtx).sort_values('prob', ascending=False).head()\n",
    "    )"
   ]
  },
  {
   "cell_type": "code",
   "execution_count": 10,
   "metadata": {},
   "outputs": [
    {
     "name": "stdout",
     "output_type": "stream",
     "text": [
      "-7.90462587025171\n",
      "    i   j      prob\n",
      "18  3  18  0.999597\n",
      "17  2  19  0.999493\n",
      "16  1  20  0.998895\n",
      "21  4  17  0.996785\n",
      "20  5  16  0.996619\n"
     ]
    }
   ],
   "source": [
    "# Check Normal Functioning with Update_Stacks and Update_Terminal\n",
    "update_stack = torch.tensor([\n",
    "    [0, 0, 0, 0, 0, 0, 0, 0],\n",
    "    [0, 0, 0, 0, 0, 0, -25, 0],\n",
    "    [0, 0, 0, 0, 0, -30, -11, 0],\n",
    "    [0, 0, 0, 0, 0, 0, 0, 0],\n",
    "    [0, 0, 0, 0, 0, 0, 0, 0],\n",
    "    [0, 0, -30, 0, 0, -42, -33, 0],\n",
    "    [0, -25, -11, 0, 0, -33, -41, 0],\n",
    "    [0, 0, 0, 0, 0, 0, 0, 0]\n",
    "], dtype = torch.float64)\n",
    "update_terminal = 31\n",
    "\n",
    "bpmtx, fe = lp.partition(seq, update_stack = update_stack, update_terminal = update_terminal)\n",
    "print(fe)\n",
    "print(\n",
    "    pd.DataFrame(bpmtx).sort_values('prob', ascending=False).head()\n",
    ")"
   ]
  }
 ],
 "metadata": {
  "kernelspec": {
   "display_name": "Python 3",
   "language": "python",
   "name": "python3"
  },
  "language_info": {
   "codemirror_mode": {
    "name": "ipython",
    "version": 3
   },
   "file_extension": ".py",
   "mimetype": "text/x-python",
   "name": "python",
   "nbconvert_exporter": "python",
   "pygments_lexer": "ipython3",
   "version": "3.10.12"
  }
 },
 "nbformat": 4,
 "nbformat_minor": 2
}
