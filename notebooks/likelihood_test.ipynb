{
 "cells": [
  {
   "cell_type": "code",
   "execution_count": 8,
   "metadata": {},
   "outputs": [],
   "source": [
    "import dataclasses as dataclass\n",
    "import os\n",
    "\n",
    "import jax\n",
    "import jax.numpy as jnp\n",
    "import pandas as pd\n",
    "\n",
    "from jax import jit, vmap\n",
    "from shapetune import _partition, _log_likelihood\n",
    "\n",
    "_log_likelihood\n",
    "jnp\n",
    "\n",
    "############################################################\n",
    "####### parse the m1psi SHAPE reactivity data   ############\n",
    "############################################################\n",
    "\n",
    "not_registered = True\n",
    "\n",
    "@dataclass.dataclass\n",
    "class SHAPE_DATA:\n",
    "    tsv_list = [f for f in os.listdir(\"../data\") if f.endswith(\".tsv\")]\n",
    "    NAMES = [f.split(\".\")[0] for f in tsv_list]\n",
    "    RAW_MOU = {\n",
    "        name: pd.read_csv(f\"../data/{f}\", sep=\"\\t\")\n",
    "        for f, name in zip(tsv_list, NAMES)\n",
    "        if name[:3] == \"moU\"\n",
    "    }\n",
    "    RAW_MPU = {\n",
    "        name: pd.read_csv(f\"../data/{f}\", sep=\"\\t\")\n",
    "        for f, name in zip(tsv_list, NAMES)\n",
    "        if name[:3] == \"mpU\"\n",
    "    }\n",
    "    RAW_U = {\n",
    "        name: pd.read_csv(f\"../data/{f}\", sep=\"\\t\")\n",
    "        for f, name in zip(tsv_list, NAMES)\n",
    "        if name[:1] == \"U\"\n",
    "    }\n",
    "\n",
    "    def __post_init__(self) -> None:\n",
    "        # concatenate the \"Sequence\" column for each dataframe\n",
    "        self.SEQUENCES_MOU = {\n",
    "            name: (\"\".join(df[\"Sequence\"].values)).replace('T','U')\n",
    "            for name, df in self.RAW_MOU.items()\n",
    "        }\n",
    "        self.SEQUENCES_MPU = {\n",
    "            name: (\"\".join(df[\"Sequence\"].values)).replace(\"T\", \"U\")\n",
    "            for name, df in self.RAW_MPU.items()\n",
    "        }\n",
    "        self.SEQUENCES_U = {\n",
    "            name: (\"\".join(df[\"Sequence\"].values)).replace(\"T\", \"U\")\n",
    "            for name, df in self.RAW_U.items()\n",
    "        }\n",
    "        self.REACTIVITY_MOU = {\n",
    "            name: df[\"Normalized Reactivity\"].values.tolist()\n",
    "            for name, df in self.RAW_MOU.items()\n",
    "        }\n",
    "        self.REACTIVITY_MPU = {\n",
    "            name: df[\"Normalized Reactivity\"].values.tolist()\n",
    "            for name, df in self.RAW_MPU.items()\n",
    "        }\n",
    "        self.REACTIVITY_U = {\n",
    "            name: df[\"Normalized Reactivity\"].values.tolist()\n",
    "            for name, df in self.RAW_U.items()\n",
    "        }"
   ]
  },
  {
   "cell_type": "code",
   "execution_count": null,
   "metadata": {},
   "outputs": [
    {
     "ename": "",
     "evalue": "",
     "output_type": "error",
     "traceback": [
      "\u001b[1;31mThe Kernel crashed while executing code in the current cell or a previous cell. \n",
      "\u001b[1;31mPlease review the code in the cell(s) to identify a possible cause of the failure. \n",
      "\u001b[1;31mClick <a href='https://aka.ms/vscodeJupyterKernelCrash'>here</a> for more info. \n",
      "\u001b[1;31mView Jupyter <a href='command:jupyter.viewOutput'>log</a> for further details."
     ]
    }
   ],
   "source": [
    "luc_seqs = SHAPE_DATA().SEQUENCES_U\n",
    "luc_seqarrs = {\n",
    "    key : jnp.frombuffer(\n",
    "        seq.encode().translate(_partition.CONSTANTS.TRANSLATER), dtype=jnp.uint8\n",
    "    ) for key, seq in luc_seqs.items()\n",
    "}\n",
    "\n",
    "luc_seqstack = jnp.vstack(tuple(luc_seqarrs[key] for key in luc_seqarrs.keys()))\n",
    "\n",
    "@jax.jit\n",
    "def shapetune_probvec(seqarr):\n",
    "    bpp = _partition._partition_arr(seqarr, _partition.CONSTANTS.STACKING_PAIRS).bpp()\n",
    "    prob_vec = (bpp + bpp.T).sum(axis=0)\n",
    "    return prob_vec"
   ]
  },
  {
   "cell_type": "code",
   "execution_count": 6,
   "metadata": {},
   "outputs": [
    {
     "data": {
      "text/plain": [
       "(Array([], shape=(0,), dtype=int32), Array([], shape=(0,), dtype=int32))"
      ]
     },
     "execution_count": 6,
     "metadata": {},
     "output_type": "execute_result"
    }
   ],
   "source": [
    "wow = _partition._partition_arr(luc_seqarrs['U_L1'], _partition.CONSTANTS.STACKING_PAIRS)\n",
    "bpp  = wow.bpp()\n",
    "bpp.nonzero()"
   ]
  },
  {
   "cell_type": "code",
   "execution_count": 7,
   "metadata": {},
   "outputs": [
    {
     "data": {
      "text/plain": [
       "'GGGAAATAAGAGAGAAAAGAAGAGTAAGAAGAAATATAAGAGCCACCATGGAGGACGCGAAAAACATCAAAAAAGGGCCTGCGCCTTTTTACCCTCTGGAGGACGGGACCGCGGGGGAGCAACTGCACAAAGCGATGAAAAGGTACGCGCTGGTACCTGGGACCATCGCGTTTACCGACGCGCACATCGAGGTAGACATCACCTACGCGGAGTACTTTGAGATGAGCGTAAGGCTGGCGGAGGCGATGAAAAGGTACGGGCTGAACACCAACCACAGGATCGTAGTATGCAGCGAGAACAGCCTGCAATTTTTTATGCCTGTACTGGGGGCGCTGTTTATCGGGGTAGCGGTAGCGCCTGCGAACGACATCTACAACGAGAGGGAGCTGCTGAACAGCATGGGGATCAGCCAACCTACCGTAGTATTTGTAAGCAAAAAAGGGCTGCAAAAAATCCTGAACGTACAAAAAAAACTGCCTATCATCCAAAAAATCATCATCATGGACAGCAAAACCGACTACCAAGGGTTTCAAAGCATGTACACCTTTGTAACCAGCCACCTGCCTCCTGGGTTTAACGAGTACGACTTTGTACCTGAGAGCTTTGACAGGGACAAAACCATCGCGCTGATCATGAACAGCAGCGGGAGCACCGGGCTGCCTAAAGGGGTAGCGCTGCCTCACAGGACCGCGTGCGTAAGGTTTAGCCACGCGAGGGACCCTATCTTTGGGAACCAAATCATCCCTGACACCGCGATCCTGAGCGTAGTACCTTTTCACCACGGGTTTGGGATGTTTACCACCCTGGGGTACCTGATCTGCGGGTTTAGGGTAGTACTGATGTACAGGTTTGAGGAGGAGCTGTTTCTGAGGAGCCTGCAAGACTACAAAATCCAAAGCGCGCTGCTGGTACCTACCCTGTTTAGCTTTTTTGCGAAAAGCACCCTGATCGACAAATACGACCTGAGCAACCTGCACGAGATCGCGAGCGGGGGGGCGCCTCTGAGCAAAGAGGTAGGGGAGGCGGTAGCGAAAAGGTTTCACCTGCCTGGGATCAGGCAAGGGTACGGGCTGACCGAGACCACCAGCGCGATCCTGATCACCCCTGAGGGGGACGACAAACCTGGGGCGGTAGGGAAAGTAGTACCTTTTTTTGAGGCGAAAGTAGTAGACCTGGACACCGGGAAAACCCTGGGGGTAAACCAAAGGGGGGAGCTGTGCGTAAGGGGGCCTATGATCATGAGCGGGTACGTAAACAACCCTGAGGCGACCAACGCGCTGATCGACAAAGACGGGTGGCTGCACAGCGGGGACATCGCGTACTGGGACGAGGACGAGCACTTTTTTATCGTAGACAGGCTGAAAAGCCTGATCAAATACAAAGGGTACCAAGTAGCGCCTGCGGAGCTGGAGAGCATCCTGCTGCAACACCCTAACATCTTTGACGCGGGGGTAGCGGGGCTGCCTGACGACGACGCGGGGGAGCTGCCTGCGGCGGTAGTAGTACTGGAGCACGGGAAAACCATGACCGAGAAAGAGATCGTAGACTACGTAGCGAGCCAAGTAACCACCGCGAAAAAACTGAGGGGGGGGGTAGTATTTGTAGACGAGGTACCTAAAGGGCTGACCGGGAAACTGGACGCGAGGAAAATCAGGGAGATCCTGATCAAAGCGAAAAAAGGGGGGAAAATCGCGGTATGATAATAGGCTGGAGCCTCGGTGGCCATGCTTCTTGCCCCTTGGGCCTCCCCCCAGCCCCTCCTCCCCTTCCTGCACCCGTACCCCCGTGGTCTTTGAATAAAGTCTGAGTGGGCGG'"
      ]
     },
     "execution_count": 7,
     "metadata": {},
     "output_type": "execute_result"
    }
   ],
   "source": [
    "luc_seqs['U_L1']"
   ]
  },
  {
   "cell_type": "code",
   "execution_count": null,
   "metadata": {},
   "outputs": [],
   "source": [
    "all_ensemble = wow.all_ensemble\n",
    "jnp.exp(all_ensemble)"
   ]
  },
  {
   "cell_type": "code",
   "execution_count": null,
   "metadata": {},
   "outputs": [],
   "source": [
    "canon_reactivity = SHAPE_DATA().REACTIVITY_U\n",
    "\n",
    "# filter out negative reactivity values\n",
    "\n",
    "valid_reactivity = {\n",
    "    name: [max(0, r) for r in reactivity]\n",
    "    for name, reactivity in canon_reactivity.items()\n",
    "}"
   ]
  },
  {
   "cell_type": "code",
   "execution_count": 1,
   "metadata": {},
   "outputs": [
    {
     "name": "stdout",
     "output_type": "stream",
     "text": [
      "[(1, 4)]\n",
      "[(1, 4), (2, 3)]\n",
      "[(0, 5), (1, 4), (2, 3)]\n",
      "[(0, 5), (1, 4)]\n",
      "[(0, 1), (2, 3), (4, 5)]\n",
      "[(0, 1), (3, 4)]\n",
      "[(0, 1), (2, 3)]\n",
      "[(0, 1)]\n",
      "[(1, 2), (3, 4)]\n",
      "[(1, 2), (4, 5)]\n",
      "[(0, 3)]\n",
      "[(2, 3), (4, 5)]\n",
      "[(0, 3), (1, 2)]\n",
      "[(1, 2)]\n",
      "[(0, 1), (2, 5), (3, 4)]\n",
      "[(0, 5), (3, 4)]\n",
      "[(0, 3), (4, 5)]\n",
      "[(3, 4)]\n",
      "[(0, 5), (1, 2)]\n",
      "[(0, 5), (1, 2), (3, 4)]\n",
      "[(0, 5)]\n",
      "[(0, 3), (1, 2), (4, 5)]\n",
      "[(0, 5), (2, 3)]\n",
      "[(4, 5)]\n",
      "[(2, 5)]\n",
      "[(0, 1), (4, 5)]\n",
      "[(0, 1), (2, 5)]\n",
      "[(2, 5), (3, 4)]\n",
      "[]\n",
      "[(2, 3)]\n"
     ]
    }
   ],
   "source": [
    "sequence = \"GCGCGC\"\n",
    "\n",
    "\n",
    "def can_pair(i, j):\n",
    "    base1 = sequence[i]\n",
    "    base2 = sequence[j]\n",
    "    # G-C and C-G pairings\n",
    "    return (base1 == \"G\" and base2 == \"C\") or (base1 == \"C\" and base2 == \"G\")\n",
    "\n",
    "\n",
    "memo = {}\n",
    "\n",
    "\n",
    "def get_structures(i, j):\n",
    "    if (i, j) in memo:\n",
    "        return memo[(i, j)]\n",
    "    if i > j:\n",
    "        return set([frozenset()])\n",
    "    structures = set()\n",
    "    # Case 1: Position i is unpaired\n",
    "    for s in get_structures(i + 1, j):\n",
    "        structures.add(s)\n",
    "    # Case 2: Position i pairs with position k\n",
    "    for k in range(i + 1, j + 1):\n",
    "        if can_pair(i, k):\n",
    "            for left in get_structures(i + 1, k - 1):\n",
    "                for right in get_structures(k + 1, j):\n",
    "                    s = set(left)\n",
    "                    s.update(right)\n",
    "                    s.add((i, k))\n",
    "                    structures.add(frozenset(s))\n",
    "    memo[(i, j)] = structures\n",
    "    return structures\n",
    "\n",
    "\n",
    "all_structures = get_structures(0, len(sequence) - 1)\n",
    "\n",
    "# Convert frozensets to sorted lists and print the structures\n",
    "for struct in all_structures:\n",
    "    struct_list = list(struct)\n",
    "    struct_list.sort()\n",
    "    print(struct_list)"
   ]
  }
 ],
 "metadata": {
  "kernelspec": {
   "display_name": "shape-reg",
   "language": "python",
   "name": "python3"
  },
  "language_info": {
   "codemirror_mode": {
    "name": "ipython",
    "version": 3
   },
   "file_extension": ".py",
   "mimetype": "text/x-python",
   "name": "python",
   "nbconvert_exporter": "python",
   "pygments_lexer": "ipython3",
   "version": "3.12.4"
  }
 },
 "nbformat": 4,
 "nbformat_minor": 2
}
